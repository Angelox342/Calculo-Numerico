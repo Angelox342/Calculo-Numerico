{
 "cells": [
  {
   "cell_type": "code",
   "execution_count": 8,
   "id": "b6f995c8-7a32-4e5a-bc40-9c1ce51fcf7b",
   "metadata": {},
   "outputs": [
    {
     "name": "stdout",
     "output_type": "stream",
     "text": [
      "El resultado de f( 2 ) es: 0.1666667 \n"
     ]
    }
   ],
   "source": [
    "#función f(x) que calcula el recíproco de la suma de (x^2) y (x) en R\n",
    "\n",
    "# Definir la función f(x)\n",
    "f <- function(x) {\n",
    "  return(1 / (x^2 + x))\n",
    "}\n",
    "\n",
    "# Valor de x para el cálculo\n",
    "x <- 2\n",
    "\n",
    "# Calcular f(x) para el valor dado de x\n",
    "resultado <- f(x)\n",
    "\n",
    "# Mostrar el resultado\n",
    "cat(\"El resultado de f(\", x, \") es:\", resultado, \"\\n\")\n",
    "# Ahora, desglosemos cada parte del código:\n",
    "\n",
    "# Definición de la función:\n",
    "# Hemos creado una función llamada f que toma un argumento x.\n",
    "# La función calcula el recíproco de la suma de (x^2) y (x).\n",
    "# Valor de (x):\n",
    "# Hemos establecido (x = 2) para este ejemplo.\n",
    "# Cálculo de (f(x)):\n",
    "# Llamamos a la función f(x) con el valor de (x) dado.\n",
    "# El resultado se almacena en la variable resultado.\n",
    "# Mostrar el resultado:\n",
    "# Utilizamos cat() para imprimir el resultado en la consola\n",
    "\n"
   ]
  },
  {
   "cell_type": "code",
   "execution_count": null,
   "id": "80faac8f-8cf7-4448-9538-95d6d5d963b4",
   "metadata": {},
   "outputs": [],
   "source": []
  }
 ],
 "metadata": {
  "kernelspec": {
   "display_name": "R",
   "language": "R",
   "name": "ir"
  },
  "language_info": {
   "codemirror_mode": "r",
   "file_extension": ".r",
   "mimetype": "text/x-r-source",
   "name": "R",
   "pygments_lexer": "r",
   "version": "3.6.1"
  }
 },
 "nbformat": 4,
 "nbformat_minor": 5
}
