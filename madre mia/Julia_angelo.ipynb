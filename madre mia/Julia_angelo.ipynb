{
 "cells": [
  {
   "cell_type": "markdown",
   "id": "aa752480-d02b-4c65-a161-4b56e39f78c8",
   "metadata": {},
   "source": [
    "<h1> Tipos de datos en Julia </h1>"
   ]
  },
  {
   "cell_type": "markdown",
   "id": "353b6e17-791f-4534-83f2-c41eda2597d2",
   "metadata": {},
   "source": [
    "<markdowncell>\r\n",
    "En Julia, los tipos de datos son objetos, y algunos heredan de otros. Aquí hay algunos puntos clave sobre los tipos de datos en Julia:\r\n",
    "\r\n",
    "**Jerarquía de tipos**:\r\n",
    "En Julia, los tipos de datos forman una jerarquía. Por ejemplo:\r\n",
    "- `Int64` hereda de `Signed`.\r\n",
    "- `Signed` hereda de `Real`.\r\n",
    "- `Real` hereda de `Number`.\r\n",
    "- `Number` hereda del tipo base `Any`.\r\n"
   ]
  },
  {
   "cell_type": "code",
   "execution_count": 2,
   "id": "7fd32527-c1e1-4643-aee7-b5e1301856f9",
   "metadata": {},
   "outputs": [
    {
     "data": {
      "text/plain": [
       "Float64"
      ]
     },
     "execution_count": 2,
     "metadata": {},
     "output_type": "execute_result"
    }
   ],
   "source": [
    "typeof(1)   # Int64\n",
    "typeof(π)   # Irrational{:π}\n",
    "typeof(1.0) # Float64\n",
    "\n"
   ]
  },
  {
   "cell_type": "markdown",
   "id": "c32662b6-bb35-4a2d-b72a-91c64cda5931",
   "metadata": {},
   "source": [
    "<h2>Asignación de tipos de datos:</h2>\n",
    "En Julia, utilizamos el operador :: para indicar el tipo de dato. Por ejemplo:"
   ]
  },
  {
   "cell_type": "markdown",
   "id": "498cd2e3-5537-4343-b924-653a79ecff96",
   "metadata": {},
   "source": [
    "x = 12::Float64  # Error: Se esperaba Float64, pero se obtuvo Int64\n"
   ]
  },
  {
   "cell_type": "markdown",
   "id": "dfa89259-d479-4f51-a8bf-ef82408bb323",
   "metadata": {},
   "source": [
    "<h3>Conversión y promoción de tipos:</h3>\n",
    "Puedes convertir tipos de datos utilizando la función convert().<br>\n",
    "Las operaciones entre diferentes tipos de datos se promocionan al tipo de mayor precisión."
   ]
  },
  {
   "cell_type": "markdown",
   "id": "a8ff53a0-bc57-47c7-b7f8-98836828979b",
   "metadata": {},
   "source": [
    "# Conversión de un valor entero a punto flotante\n",
    "x = 5\n",
    "y = convert(Float64, x)  # Convierte x a un valor de punto flotante (Float64)\n",
    "println(\"Valor original: $x, Valor convertido: $y\")\n",
    "\n",
    "# Promoción de tipos en una operación\n",
    "a = 1.5\n",
    "b = 2\n",
    "resultado = a + b  # La suma se promociona al tipo de mayor precisión (Float64)\n",
    "println(\"Resultado de la suma: $resultado\")\n"
   ]
  },
  {
   "cell_type": "markdown",
   "id": "68f862b5-7fbe-44f8-b680-37e368c30688",
   "metadata": {},
   "source": [
    "<h3>Operadores en Julia</h3>\n",
    "Operadores aritméticos\n",
    "Los operadores aritméticos se utilizan para realizar cálculos matemáticos. <br>Algunos ejemplos son:\n",
    "\n",
    "+: Suma<br>\n",
    "-: Resta<br>\n",
    "*: Multiplicación<br>\n",
    "/: División<br>\n",
    "^: Potenciación<br>\n",
    "//: División entera<br>\n",
    "%: Resto de la división entera<hr>\n",
    "<strong> Por ejemplo</strong>"
   ]
  },
  {
   "cell_type": "code",
   "execution_count": 7,
   "id": "fa1de782-5a06-4e68-a31e-97532bbb0efc",
   "metadata": {},
   "outputs": [
    {
     "name": "stdout",
     "output_type": "stream",
     "text": [
      "Suma: 8, Resta: 2, Multiplicación: 15, División: 1.6666666666666667, Potencia: 125\n"
     ]
    }
   ],
   "source": [
    "a = 5\n",
    "b = 3\n",
    "suma = a + b\n",
    "resta = a - b\n",
    "multiplicacion = a * b\n",
    "division = a / b\n",
    "potencia = a ^ b\n",
    "println(\"Suma: $suma, Resta: $resta, Multiplicación: $multiplicacion, División: $division, Potencia: $potencia\")\n"
   ]
  },
  {
   "cell_type": "markdown",
   "id": "12580555-6041-4c1b-87d2-ba7610934149",
   "metadata": {},
   "source": [
    "<h3>Operadores lógicos</h3>\n",
    "Los operadores lógicos se utilizan para evaluar expresiones booleanas.<br> Algunos ejemplos son:\n",
    "\n",
    "&& (y): Devuelve true si ambas expresiones son verdaderas.<br>\n",
    "|| (o): Devuelve true si al menos una expresión es verdadera.<br>\n",
    "! (negación): Cambia true a false y viceversa.<hr>\n",
    "<strong>Por ejemplo:</strong>"
   ]
  },
  {
   "cell_type": "code",
   "execution_count": 9,
   "id": "64ae5e60-0062-4bbf-9c1f-249fa167cc97",
   "metadata": {},
   "outputs": [
    {
     "name": "stdout",
     "output_type": "stream",
     "text": [
      "Resultado y: false, Resultado o: true\n"
     ]
    }
   ],
   "source": [
    "x = true\n",
    "y = false\n",
    "resultado_y = x && y\n",
    "resultado_o = x || y\n",
    "println(\"Resultado y: $resultado_y, Resultado o: $resultado_o\")\n"
   ]
  },
  {
   "cell_type": "markdown",
   "id": "791f97cd-0c0c-4cbd-9726-9438d638d33f",
   "metadata": {},
   "source": [
    "<h3>Operadores de comparación</h3>\n",
    "Los operadores de comparación se utilizan para comparar valores.<br> Algunos ejemplos son:\n",
    "\n",
    "==: Igual a<br>\n",
    "!= o ≠: Diferente de<br>\n",
    "<: Menor que <br>\n",
    ">: Mayor que <br>\n",
    "<=: Menor o igual que<br>\n",
    ">=: Mayor o igual que<hr>\n",
    "\n",
    "<strong> Por ejemplo </strong>"
   ]
  },
  {
   "cell_type": "code",
   "execution_count": 10,
   "id": "130cb311-733d-4b46-9139-383b31e101b0",
   "metadata": {},
   "outputs": [
    {
     "name": "stdout",
     "output_type": "stream",
     "text": [
      "Igual: false, Diferente: true, Menor: false, Mayor: true\n"
     ]
    }
   ],
   "source": [
    "a = 10\n",
    "b = 7\n",
    "igual = a == b\n",
    "diferente = a != b\n",
    "menor = a < b\n",
    "mayor = a > b\n",
    "println(\"Igual: $igual, Diferente: $diferente, Menor: $menor, Mayor: $mayor\")\n"
   ]
  },
  {
   "cell_type": "markdown",
   "id": "b418aabe-8f0c-4f60-8c12-3928cb2c780f",
   "metadata": {},
   "source": [
    "<h2>Bucles en Julia</h2>\n",
    "Bucle for<br>\n",
    "El bucle for se utiliza para iterar sobre una secuencia de valores. <br>\n",
    "Puedes usarlo para recorrer arreglos, rangos o cualquier otro tipo iterable.<br>\n",
    "Aquí tienes un ejemplo:"
   ]
  },
  {
   "cell_type": "code",
   "execution_count": 11,
   "id": "ae84bfe7-4af5-4229-9f99-0dbde8eb62f2",
   "metadata": {},
   "outputs": [
    {
     "name": "stdout",
     "output_type": "stream",
     "text": [
      "Valor de i: 1\n",
      "Valor de i: 2\n",
      "Valor de i: 3\n",
      "Valor de i: 4\n",
      "Valor de i: 5\n"
     ]
    }
   ],
   "source": [
    "# Iterar sobre un rango de números\n",
    "for i in 1:5\n",
    "    println(\"Valor de i: $i\")\n",
    "end\n"
   ]
  },
  {
   "cell_type": "markdown",
   "id": "64187899-6c3f-43ad-a0ff-5870e71ef893",
   "metadata": {},
   "source": [
    "<h3>Bucle while</h3>\n",
    "El bucle while se ejecuta mientras se cumpla una condición.<br> Aquí  un ejemplo:"
   ]
  },
  {
   "cell_type": "code",
   "execution_count": 12,
   "id": "e8a6ff00-81b6-47ec-9ef9-a4db771c66a7",
   "metadata": {},
   "outputs": [
    {
     "name": "stdout",
     "output_type": "stream",
     "text": [
      "Valor de n: 1\n",
      "Valor de n: 2\n",
      "Valor de n: 3\n",
      "Valor de n: 4\n",
      "Valor de n: 5\n"
     ]
    }
   ],
   "source": [
    "# Imprimir números hasta que se alcance un límite\n",
    "n = 1\n",
    "while n <= 5\n",
    "    println(\"Valor de n: $n\")\n",
    "    n += 1\n",
    "end\n"
   ]
  },
  {
   "cell_type": "code",
   "execution_count": null,
   "id": "e9910255-2d70-4c28-af86-12f57b3a0288",
   "metadata": {},
   "outputs": [],
   "source": []
  }
 ],
 "metadata": {
  "kernelspec": {
   "display_name": "Julia 1.10.3",
   "language": "julia",
   "name": "julia-1.10"
  },
  "language_info": {
   "file_extension": ".jl",
   "mimetype": "application/julia",
   "name": "julia",
   "version": "1.10.3"
  }
 },
 "nbformat": 4,
 "nbformat_minor": 5
}
